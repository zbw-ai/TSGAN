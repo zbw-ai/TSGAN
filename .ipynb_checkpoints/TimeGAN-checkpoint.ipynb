{
 "cells": [
  {
   "cell_type": "code",
   "execution_count": 1,
   "metadata": {},
   "outputs": [],
   "source": [
    "# 2022.09.19 debug\n",
    "# 0. 指定GPU\n",
    "import torch\n",
    "device = torch.device(\"cuda:1\" if torch.cuda.is_available() else \"cpu\") # 单GPU或者CPU\n",
    "\n",
    "# 1. 导入库\n",
    "import pandas as pd\n",
    "import numpy as np\n",
    "from tqdm import tqdm\n",
    "import matplotlib.pyplot as plt\n",
    "\n",
    "from torch import nn\n",
    "from torch.utils.data import TensorDataset, DataLoader\n",
    "from torch.nn import functional as F\n",
    "torch.manual_seed(0) \n",
    "\n",
    "import random\n",
    "\n",
    "# 导入自己写的库\n",
    "from dataset import data_preprocess\n",
    "from models import Generator, Discriminator, set_requires_grad\n",
    "\n",
    "plt.rcParams[\"figure.figsize\"] = (10, 5) # 指定plot的图片规格"
   ]
  },
  {
   "cell_type": "code",
   "execution_count": null,
   "metadata": {},
   "outputs": [],
   "source": []
  }
 ],
 "metadata": {
  "kernelspec": {
   "display_name": "Python 3 (ipykernel)",
   "language": "python",
   "name": "python3"
  },
  "language_info": {
   "codemirror_mode": {
    "name": "ipython",
    "version": 3
   },
   "file_extension": ".py",
   "mimetype": "text/x-python",
   "name": "python",
   "nbconvert_exporter": "python",
   "pygments_lexer": "ipython3",
   "version": "3.7.13"
  },
  "vscode": {
   "interpreter": {
    "hash": "5ffe8b7abeb888bde079454767c80fb31a3179462fb616f7d0729a9dd5a515d7"
   }
  }
 },
 "nbformat": 4,
 "nbformat_minor": 2
}
